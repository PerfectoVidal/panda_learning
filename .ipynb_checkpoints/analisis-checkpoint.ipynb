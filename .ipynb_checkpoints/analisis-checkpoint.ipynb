{
 "cells": [
  {
   "cell_type": "code",
   "execution_count": null,
   "metadata": {
    "collapsed": true
   },
   "outputs": [],
   "source": [
    "#importamos numpy y pandas\n",
    "import numpy as np\n",
    "import pandas as pd\n",
    "#cargamos para manejar fechas\n",
    "import datetime\n",
    "from datetime import datetime, date\n",
    "\n",
    "#configuramos el pandas para que nos muestre por pantalla como queremos\n",
    "pd.set_option('display.notebook_repr_html', False)\n",
    "pd.set_option('display.max_columns', 8)\n",
    "pd.set_option('display.max_rows', 10)\n",
    "pd.set_options('display.width', 60)\n",
    "\n",
    "#usaremos matplotlib para los gráficos\n",
    "import matplotlib.pyplot as plt\n",
    "%matplotlib inline\n",
    "\n",
    "#cargamos los datos y solamente leemos las columnas de la posicion 0 2 3 y 7\n",
    "\n",
    "sp500 = pd.read_csv(\"tratamiento_datos/data/sp500.csv\", index_col='Symbol', usecols=[0,2,3,7])\n",
    "\n",
    "\n"
   ]
  }
 ],
 "metadata": {
  "kernelspec": {
   "display_name": "Python 3",
   "language": "python",
   "name": "python3"
  },
  "language_info": {
   "codemirror_mode": {
    "name": "ipython",
    "version": 3
   },
   "file_extension": ".py",
   "mimetype": "text/x-python",
   "name": "python",
   "nbconvert_exporter": "python",
   "pygments_lexer": "ipython3",
   "version": "3.4.3"
  }
 },
 "nbformat": 4,
 "nbformat_minor": 2
}
